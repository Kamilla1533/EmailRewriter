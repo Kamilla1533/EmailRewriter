{
 "cells": [
  {
   "cell_type": "code",
   "execution_count": 12,
   "id": "6499c0dc-78e3-45fb-b8ca-8ffebeaaecbf",
   "metadata": {},
   "outputs": [],
   "source": [
    "import torch\n",
    "from datasets import Dataset, load_dataset\n",
    "from transformers import AutoModelForSequenceClassification, AutoTokenizer\n",
    "#import evalute\n",
    "import numpy as np"
   ]
  },
  {
   "cell_type": "code",
   "execution_count": 5,
   "id": "0ac2688b-fde5-4cb7-be74-c8e249ce8629",
   "metadata": {},
   "outputs": [],
   "source": [
    "import os\n",
    "os.environ[\"HF_HUB_DISABLE_SYMLINKS_WARNING\"] = \"1\""
   ]
  },
  {
   "cell_type": "markdown",
   "id": "a904c3fe-b746-4fed-acba-0e0a4fe948ab",
   "metadata": {},
   "source": [
    "# Загрузка датасета"
   ]
  },
  {
   "cell_type": "code",
   "execution_count": 21,
   "id": "155f9598-dadc-447d-84b7-dcddbbaa18bb",
   "metadata": {},
   "outputs": [],
   "source": [
    "from sklearn.model_selection import train_test_split"
   ]
  },
  {
   "cell_type": "code",
   "execution_count": 16,
   "id": "77897e3c-57d1-423d-ae90-c47318b3689f",
   "metadata": {},
   "outputs": [
    {
     "name": "stderr",
     "output_type": "stream",
     "text": [
      "Generating train split: 5463 examples [00:00, 185862.35 examples/s]\n"
     ]
    }
   ],
   "source": [
    "dataset = load_dataset('json', data_files = 'clean_data.jsonl')"
   ]
  },
  {
   "cell_type": "code",
   "execution_count": 29,
   "id": "65488421-f973-4868-8d4c-e943360ece10",
   "metadata": {},
   "outputs": [
    {
     "data": {
      "text/plain": [
       "DatasetDict({\n",
       "    train: Dataset({\n",
       "        features: ['label', 'text'],\n",
       "        num_rows: 5463\n",
       "    })\n",
       "})"
      ]
     },
     "execution_count": 29,
     "metadata": {},
     "output_type": "execute_result"
    }
   ],
   "source": [
    "dataset"
   ]
  },
  {
   "cell_type": "code",
   "execution_count": 30,
   "id": "e9f39735-aa27-4acf-a34b-bd48835b6c13",
   "metadata": {},
   "outputs": [],
   "source": [
    "my_dataset = dataset['train']"
   ]
  },
  {
   "cell_type": "code",
   "execution_count": 31,
   "id": "05155bf5-de23-4f2d-b4c1-965f544bf5a6",
   "metadata": {},
   "outputs": [],
   "source": [
    "train_test_split = my_dataset.train_test_split(test_size=.2, seed=42)\n",
    "train_dataset = train_test_split['train']\n",
    "temp_dataset = train_test_split['test']"
   ]
  },
  {
   "cell_type": "code",
   "execution_count": 33,
   "id": "381bfc61-a12c-49b0-9879-ad158f168bb5",
   "metadata": {},
   "outputs": [],
   "source": [
    "val_test_split = temp_dataset.train_test_split(test_size=.5, seed=42)\n",
    "val_dataset = val_test_split['train']\n",
    "test_dataset = val_test_split['test']"
   ]
  },
  {
   "cell_type": "code",
   "execution_count": 34,
   "id": "0ed63c16-fb89-47eb-b8b0-b0399231b166",
   "metadata": {},
   "outputs": [
    {
     "data": {
      "text/plain": [
       "Dataset({\n",
       "    features: ['label', 'text'],\n",
       "    num_rows: 4370\n",
       "})"
      ]
     },
     "execution_count": 34,
     "metadata": {},
     "output_type": "execute_result"
    }
   ],
   "source": [
    "train_dataset"
   ]
  },
  {
   "cell_type": "code",
   "execution_count": 35,
   "id": "f7004c69-0646-414e-87ca-5a6dc67562e8",
   "metadata": {},
   "outputs": [
    {
     "data": {
      "text/plain": [
       "Dataset({\n",
       "    features: ['label', 'text'],\n",
       "    num_rows: 546\n",
       "})"
      ]
     },
     "execution_count": 35,
     "metadata": {},
     "output_type": "execute_result"
    }
   ],
   "source": [
    "val_dataset"
   ]
  },
  {
   "cell_type": "code",
   "execution_count": 36,
   "id": "1d4cff37-b5ea-401c-917b-b33514be586e",
   "metadata": {},
   "outputs": [
    {
     "data": {
      "text/plain": [
       "Dataset({\n",
       "    features: ['label', 'text'],\n",
       "    num_rows: 547\n",
       "})"
      ]
     },
     "execution_count": 36,
     "metadata": {},
     "output_type": "execute_result"
    }
   ],
   "source": [
    "test_dataset"
   ]
  },
  {
   "cell_type": "code",
   "execution_count": null,
   "id": "077cbc79-deb6-4ff6-b157-557e940e416c",
   "metadata": {},
   "outputs": [],
   "source": []
  }
 ],
 "metadata": {
  "kernelspec": {
   "display_name": "Python 3 (ipykernel)",
   "language": "python",
   "name": "python3"
  },
  "language_info": {
   "codemirror_mode": {
    "name": "ipython",
    "version": 3
   },
   "file_extension": ".py",
   "mimetype": "text/x-python",
   "name": "python",
   "nbconvert_exporter": "python",
   "pygments_lexer": "ipython3",
   "version": "3.10.6"
  }
 },
 "nbformat": 4,
 "nbformat_minor": 5
}
